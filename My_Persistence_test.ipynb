{
  "nbformat": 4,
  "nbformat_minor": 0,
  "metadata": {
    "colab": {
      "name": "My Persistence test.ipynb",
      "provenance": [],
      "collapsed_sections": [],
      "include_colab_link": true
    },
    "kernelspec": {
      "name": "python3",
      "display_name": "Python 3"
    }
  },
  "cells": [
    {
      "cell_type": "markdown",
      "metadata": {
        "id": "view-in-github",
        "colab_type": "text"
      },
      "source": [
        "<a href=\"https://colab.research.google.com/github/AntonAyzenberg/Persistent-homology-Examples/blob/master/My_Persistence_test.ipynb\" target=\"_parent\"><img src=\"https://colab.research.google.com/assets/colab-badge.svg\" alt=\"Open In Colab\"/></a>"
      ]
    },
    {
      "cell_type": "code",
      "metadata": {
        "id": "zYFyHHaeBMGl",
        "colab_type": "code",
        "colab": {}
      },
      "source": [
        "!pip install --verbose git+https://github.com/mrzv/dionysus.git"
      ],
      "execution_count": 0,
      "outputs": []
    },
    {
      "cell_type": "code",
      "metadata": {
        "id": "1iC4Uf17W0__",
        "colab_type": "code",
        "colab": {}
      },
      "source": [
        "import dionysus as d\n",
        "import numpy as np"
      ],
      "execution_count": 0,
      "outputs": []
    },
    {
      "cell_type": "code",
      "metadata": {
        "id": "EoxS77_5FNwW",
        "colab_type": "code",
        "colab": {}
      },
      "source": [
        "%matplotlib inline\n",
        "import matplotlib.pyplot as plt\n",
        "import networkx as nx\n",
        "from IPython.display import clear_output"
      ],
      "execution_count": 0,
      "outputs": []
    },
    {
      "cell_type": "code",
      "metadata": {
        "id": "3-LCEYE9JXVI",
        "colab_type": "code",
        "outputId": "6519f634-ea09-4801-adc1-4eaea7472ad9",
        "colab": {
          "base_uri": "https://localhost:8080/",
          "height": 277
        }
      },
      "source": [
        "simplices = [([1], 0), ([2], 0), ([3], 0), ([4], 0), ([2,3], 1), ([3,4], 2), ([1,2], 3), ([2,4], 3), \n",
        "             ([2,3,4], 4), ([1,3], 5), ([1,4], 6), ([1,2,3,4], 7), ([1,2,4], 7), ([1,2,3], 7), ([1,3,4], 7)]\n",
        "f = d.Filtration()\n",
        "for vertices, time in simplices: f.append(d.Simplex(vertices, time))\n",
        "f.sort()\n",
        "for s in f: print(s)"
      ],
      "execution_count": 103,
      "outputs": [
        {
          "output_type": "stream",
          "text": [
            "<1> 0\n",
            "<2> 0\n",
            "<3> 0\n",
            "<4> 0\n",
            "<2,3> 1\n",
            "<3,4> 2\n",
            "<1,2> 3\n",
            "<2,4> 3\n",
            "<2,3,4> 4\n",
            "<1,3> 5\n",
            "<1,4> 6\n",
            "<1,2,3> 7\n",
            "<1,2,4> 7\n",
            "<1,3,4> 7\n",
            "<1,2,3,4> 7\n"
          ],
          "name": "stdout"
        }
      ]
    },
    {
      "cell_type": "code",
      "metadata": {
        "id": "PXe_anuwlJJZ",
        "colab_type": "code",
        "colab": {
          "base_uri": "https://localhost:8080/",
          "height": 156
        },
        "outputId": "6ebc780d-22e6-4656-9e8d-c1469f785da5"
      },
      "source": [
        "m = d.homology_persistence(f)\n",
        "dgms = d.init_diagrams(m, f)\n",
        "print(dgms) \n",
        "for i, dgm in enumerate(dgms):\n",
        "  for pt in dgm:\n",
        "    print(i, pt.birth, pt.death)"
      ],
      "execution_count": 104,
      "outputs": [
        {
          "output_type": "stream",
          "text": [
            "[Diagram with 4 points, Diagram with 3 points, Diagram with 0 points, Diagram with 0 points]\n",
            "0 0.0 inf\n",
            "0 0.0 3.0\n",
            "0 0.0 1.0\n",
            "0 0.0 2.0\n",
            "1 3.0 4.0\n",
            "1 5.0 7.0\n",
            "1 6.0 7.0\n"
          ],
          "name": "stdout"
        }
      ]
    },
    {
      "cell_type": "code",
      "metadata": {
        "id": "cfP7dhElopI0",
        "colab_type": "code",
        "colab": {
          "base_uri": "https://localhost:8080/",
          "height": 320
        },
        "outputId": "f5212b90-2676-46b5-93d2-6c7ecce05eac"
      },
      "source": [
        "d.plot.plot_diagram(dgms[0], show = False)\n",
        "d.plot.plot_diagram(dgms[1], show = True)"
      ],
      "execution_count": 105,
      "outputs": [
        {
          "output_type": "stream",
          "text": [
            "/usr/local/lib/python3.6/dist-packages/dionysus/plot.py:34: MatplotlibDeprecationWarning: Adding an axes using the same arguments as a previous axes currently reuses the earlier instance.  In a future version, a new instance will always be created and returned.  Meanwhile, this warning can be suppressed, and the future behavior ensured, by passing a unique label to each axes instance.\n",
            "  ax = plt.axes()\n"
          ],
          "name": "stderr"
        },
        {
          "output_type": "display_data",
          "data": {
            "image/png": "[encoded data removed]",
            "text/plain": [
              "<Figure size 432x288 with 1 Axes>"
            ]
          },
          "metadata": {
            "tags": [],
            "needs_background": "light"
          }
        }
      ]
    },
    {
      "cell_type": "code",
      "metadata": {
        "id": "RbG3dfK_p4oi",
        "colab_type": "code",
        "colab": {
          "base_uri": "https://localhost:8080/",
          "height": 513
        },
        "outputId": "288a82eb-31c2-437c-bb51-40b534caa880"
      },
      "source": [
        "d.plot.plot_bars(dgms[0], show = True)\n",
        "d.plot.plot_bars(dgms[1], show = True)"
      ],
      "execution_count": 107,
      "outputs": [
        {
          "output_type": "display_data",
          "data": {
            "image/png": "[encoded data removed]",
            "text/plain": [
              "<Figure size 432x288 with 1 Axes>"
            ]
          },
          "metadata": {
            "tags": [],
            "needs_background": "light"
          }
        },
        {
          "output_type": "display_data",
          "data": {
            "image/png": "[encoded data removed]",
            "text/plain": [
              "<Figure size 432x288 with 1 Axes>"
            ]
          },
          "metadata": {
            "tags": [],
            "needs_background": "light"
          }
        }
      ]
    },
    {
      "cell_type": "code",
      "metadata": {
        "id": "ZDyRvo56rLtQ",
        "colab_type": "code",
        "colab": {
          "base_uri": "https://localhost:8080/",
          "height": 265
        },
        "outputId": "0981282e-79fe-4968-c9cc-9ea564ee45d3"
      },
      "source": [
        "N=10\n",
        "points=np.zeros((N,2))\n",
        "for i in range(N) : points[i]=[np.cos(2*np.pi*i/N),np.sin(2*np.pi*i/N)]\n",
        "points=points+np.random.uniform(-.1,.1, (N, 2))\n",
        "plt.scatter(points[:,0],points[:,1])\n",
        "plt.show()"
      ],
      "execution_count": 108,
      "outputs": [
        {
          "output_type": "display_data",
          "data": {
            "image/png": "[encoded data removed]",
            "text/plain": [
              "<Figure size 432x288 with 1 Axes>"
            ]
          },
          "metadata": {
            "tags": [],
            "needs_background": "light"
          }
        }
      ]
    },
    {
      "cell_type": "code",
      "metadata": {
        "id": "BRR4atR7z-AU",
        "colab_type": "code",
        "colab": {
          "base_uri": "https://localhost:8080/",
          "height": 320
        },
        "outputId": "a695a051-b148-4fba-9736-2373438afa33"
      },
      "source": [
        "f = d.fill_rips(points, 3, 3)\n",
        "m = d.homology_persistence(f)\n",
        "dgms = d.init_diagrams(m, f)\n",
        "d.plot.plot_diagram(dgms[0], show = False)\n",
        "d.plot.plot_diagram(dgms[1], show = True)"
      ],
      "execution_count": 109,
      "outputs": [
        {
          "output_type": "stream",
          "text": [
            "/usr/local/lib/python3.6/dist-packages/dionysus/plot.py:34: MatplotlibDeprecationWarning: Adding an axes using the same arguments as a previous axes currently reuses the earlier instance.  In a future version, a new instance will always be created and returned.  Meanwhile, this warning can be suppressed, and the future behavior ensured, by passing a unique label to each axes instance.\n",
            "  ax = plt.axes()\n"
          ],
          "name": "stderr"
        },
        {
          "output_type": "display_data",
          "data": {
            "image/png": "[encoded data removed]",
            "text/plain": [
              "<Figure size 432x288 with 1 Axes>"
            ]
          },
          "metadata": {
            "tags": [],
            "needs_background": "light"
          }
        }
      ]
    }
  ]
}