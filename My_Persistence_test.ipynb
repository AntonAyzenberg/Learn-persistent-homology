{
  "nbformat": 4,
  "nbformat_minor": 0,
  "metadata": {
    "colab": {
      "name": "My Persistence test.ipynb",
      "provenance": [],
      "collapsed_sections": [],
      "include_colab_link": true
    },
    "kernelspec": {
      "name": "python3",
      "display_name": "Python 3"
    }
  },
  "cells": [
    {
      "cell_type": "markdown",
      "metadata": {
        "id": "view-in-github",
        "colab_type": "text"
      },
      "source": [
        "<a href=\"https://colab.research.google.com/github/AntonAyzenberg/Persistent-homology-Examples/blob/master/My_Persistence_test.ipynb\" target=\"_parent\"><img src=\"https://colab.research.google.com/assets/colab-badge.svg\" alt=\"Open In Colab\"/></a>"
      ]
    },
    {
      "cell_type": "code",
      "metadata": {
        "id": "zYFyHHaeBMGl",
        "colab_type": "code",
        "colab": {}
      },
      "source": [
        "!pip install --verbose git+https://github.com/mrzv/dionysus.git"
      ],
      "execution_count": 0,
      "outputs": []
    },
    {
      "cell_type": "code",
      "metadata": {
        "id": "1iC4Uf17W0__",
        "colab_type": "code",
        "colab": {}
      },
      "source": [
        "import dionysus as d\n",
        "import numpy as np"
      ],
      "execution_count": 0,
      "outputs": []
    },
    {
      "cell_type": "code",
      "metadata": {
        "id": "EoxS77_5FNwW",
        "colab_type": "code",
        "colab": {}
      },
      "source": [
        "%matplotlib inline\n",
        "import matplotlib.pyplot as plt\n",
        "import networkx as nx\n",
        "from IPython.display import clear_output"
      ],
      "execution_count": 0,
      "outputs": []
    },
    {
      "cell_type": "code",
      "metadata": {
        "id": "3-LCEYE9JXVI",
        "colab_type": "code",
        "outputId": "cd274595-f844-4747-da81-3c64fd766c15",
        "colab": {
          "base_uri": "https://localhost:8080/",
          "height": 277
        }
      },
      "source": [
        "simplices = [([1], 0), ([2], 0), ([3], 0), ([4], 0), ([2,3], 1), ([3,4], 2), ([1,2], 3), ([2,4], 3), \n",
        "             ([2,3,4], 4), ([1,3], 5), ([1,4], 6), ([1,2,3,4], 7), ([1,2,4], 7), ([1,2,3], 7), ([1,3,4], 7)]\n",
        "f = d.Filtration()\n",
        "for vertices, time in simplices: f.append(d.Simplex(vertices, time))\n",
        "f.sort()\n",
        "for s in f: print(s)"
      ],
      "execution_count": 52,
      "outputs": [
        {
          "output_type": "stream",
          "text": [
            "<1> 0\n",
            "<2> 0\n",
            "<3> 0\n",
            "<4> 0\n",
            "<2,3> 1\n",
            "<3,4> 2\n",
            "<1,2> 3\n",
            "<2,4> 3\n",
            "<2,3,4> 4\n",
            "<1,3> 5\n",
            "<1,4> 6\n",
            "<1,2,3> 7\n",
            "<1,2,4> 7\n",
            "<1,3,4> 7\n",
            "<1,2,3,4> 7\n"
          ],
          "name": "stdout"
        }
      ]
    },
    {
      "cell_type": "code",
      "metadata": {
        "id": "PXe_anuwlJJZ",
        "colab_type": "code",
        "colab": {
          "base_uri": "https://localhost:8080/",
          "height": 156
        },
        "outputId": "6fbddaaa-70ec-44b0-ecaa-b9a75df416d6"
      },
      "source": [
        "m = d.homology_persistence(f)\n",
        "dgms = d.init_diagrams(m, f)\n",
        "print(dgms) \n",
        "for i, dgm in enumerate(dgms):\n",
        "  for pt in dgm:\n",
        "    print(i, pt.birth, pt.death)"
      ],
      "execution_count": 53,
      "outputs": [
        {
          "output_type": "stream",
          "text": [
            "[Diagram with 4 points, Diagram with 3 points, Diagram with 0 points, Diagram with 0 points]\n",
            "0 0.0 inf\n",
            "0 0.0 3.0\n",
            "0 0.0 1.0\n",
            "0 0.0 2.0\n",
            "1 3.0 4.0\n",
            "1 5.0 7.0\n",
            "1 6.0 7.0\n"
          ],
          "name": "stdout"
        }
      ]
    },
    {
      "cell_type": "code",
      "metadata": {
        "id": "cfP7dhElopI0",
        "colab_type": "code",
        "colab": {
          "base_uri": "https://localhost:8080/",
          "height": 513
        },
        "outputId": "0c756fe8-9800-43d6-ec1c-6186e844079b"
      },
      "source": [
        "d.plot.plot_diagram(dgms[0], show = True)\n",
        "d.plot.plot_diagram(dgms[1], show = True)"
      ],
      "execution_count": 54,
      "outputs": [
        {
          "output_type": "display_data",
          "data": {
            "image/png": "[encoded data removed]",
            "text/plain": [
              "<Figure size 432x288 with 1 Axes>"
            ]
          },
          "metadata": {
            "tags": [],
            "needs_background": "light"
          }
        },
        {
          "output_type": "display_data",
          "data": {
            "image/png": "[encoded data removed]",
            "text/plain": [
              "<Figure size 432x288 with 1 Axes>"
            ]
          },
          "metadata": {
            "tags": [],
            "needs_background": "light"
          }
        }
      ]
    },
    {
      "cell_type": "code",
      "metadata": {
        "id": "RbG3dfK_p4oi",
        "colab_type": "code",
        "colab": {
          "base_uri": "https://localhost:8080/",
          "height": 513
        },
        "outputId": "00222341-d11a-4c0b-bc89-c2a1b9002bfb"
      },
      "source": [
        "d.plot.plot_bars(dgms[0], show = True)\n",
        "d.plot.plot_bars(dgms[1], show = True)"
      ],
      "execution_count": 55,
      "outputs": [
        {
          "output_type": "display_data",
          "data": {
            "image/png": "[encoded data removed]",
            "text/plain": [
              "<Figure size 432x288 with 1 Axes>"
            ]
          },
          "metadata": {
            "tags": [],
            "needs_background": "light"
          }
        },
        {
          "output_type": "display_data",
          "data": {
            "image/png": "[encoded data removed]",
            "text/plain": [
              "<Figure size 432x288 with 1 Axes>"
            ]
          },
          "metadata": {
            "tags": [],
            "needs_background": "light"
          }
        }
      ]
    },
    {
      "cell_type": "code",
      "metadata": {
        "id": "ZDyRvo56rLtQ",
        "colab_type": "code",
        "colab": {
          "base_uri": "https://localhost:8080/",
          "height": 265
        },
        "outputId": "347d35a7-2a04-4cd9-e9ae-2701fcdcf071"
      },
      "source": [
        "N=10\n",
        "points=np.zeros((N,2))\n",
        "for i in range(N) : points[i]=[np.cos(2*np.pi*i/N),np.sin(2*np.pi*i/N)]\n",
        "plt.plot(points)\n",
        "plt.show()"
      ],
      "execution_count": 86,
      "outputs": [
        {
          "output_type": "display_data",
          "data": {
            "image/png": "[encoded data removed]",
            "text/plain": [
              "<Figure size 432x288 with 1 Axes>"
            ]
          },
          "metadata": {
            "tags": [],
            "needs_background": "light"
          }
        }
      ]
    },
    {
      "cell_type": "code",
      "metadata": {
        "id": "BRR4atR7z-AU",
        "colab_type": "code",
        "colab": {}
      },
      "source": [
        "#points = np.array([[1.,0, 0],[-1,0, 0],[0,1,0],[0,-1,0],[0,0,-1],[0,0,1]])\n",
        "f = d.fill_rips(points, 3, 3)"
      ],
      "execution_count": 0,
      "outputs": []
    },
    {
      "cell_type": "code",
      "metadata": {
        "id": "-HhROvUKw0vG",
        "colab_type": "code",
        "colab": {
          "base_uri": "https://localhost:8080/",
          "height": 765
        },
        "outputId": "9df75ec4-b5c8-45f6-ecde-8e96a11fa195"
      },
      "source": [
        "m = d.homology_persistence(f)\n",
        "dgms = d.init_diagrams(m, f)\n",
        "d.plot.plot_bars(dgms[0], show = True)\n",
        "d.plot.plot_bars(dgms[1], show = True)\n"
      ],
      "execution_count": 85,
      "outputs": [
        {
          "output_type": "display_data",
          "data": {
            "image/png": "[encoded data removed]",
            "text/plain": [
              "<Figure size 432x288 with 1 Axes>"
            ]
          },
          "metadata": {
            "tags": [],
            "needs_background": "light"
          }
        },
        {
          "output_type": "display_data",
          "data": {
            "image/png": "[encoded data removed]",
            "text/plain": [
              "<Figure size 432x288 with 1 Axes>"
            ]
          },
          "metadata": {
            "tags": [],
            "needs_background": "light"
          }
        },
        {
          "output_type": "display_data",
          "data": {
            "image/png": "[encoded data removed]",
            "text/plain": [
              "<Figure size 432x288 with 1 Axes>"
            ]
          },
          "metadata": {
            "tags": [],
            "needs_background": "light"
          }
        }
      ]
    }
  ]
}